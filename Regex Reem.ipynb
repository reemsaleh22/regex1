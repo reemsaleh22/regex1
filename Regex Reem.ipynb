{
  "nbformat": 4,
  "nbformat_minor": 0,
  "metadata": {
    "colab": {
      "provenance": []
    },
    "kernelspec": {
      "name": "python3",
      "display_name": "Python 3"
    },
    "language_info": {
      "name": "python"
    }
  },
  "cells": [
    {
      "cell_type": "code",
      "execution_count": null,
      "metadata": {
        "id": "Xme7QajxemZj"
      },
      "outputs": [],
      "source": [
        "import re"
      ]
    },
    {
      "cell_type": "code",
      "source": [
        "\n",
        "\n",
        "inputs = [\"My email is john@email.com and mary@otherplace.net\",\n",
        "          \"Visit us at support@ourcompany.co.uk for help\",\n",
        "          \"No emails here\"]\n",
        "\n",
        "pattern = r\"(\\w+)@(\\w+)\\.(\\w+)\"\n",
        "\n",
        "matches = []\n",
        "for input in inputs:\n",
        "    matches += re.findall(pattern, input)\n",
        "\n",
        "for m in matches:\n",
        "    username = m[0]\n",
        "    mailserver = m[1]\n",
        "    domain = m[2]\n",
        "    print(f\"Username: {username}\")\n",
        "    print(f\"Mailserver: {mailserver}\")\n",
        "    print(f\"Domain: {domain}\")\n",
        "    print('')"
      ],
      "metadata": {
        "colab": {
          "base_uri": "https://localhost:8080/"
        },
        "id": "-o1o_58kfFjF",
        "outputId": "a5daaa86-9e7e-4979-8a9e-9942f22dd66e"
      },
      "execution_count": null,
      "outputs": [
        {
          "output_type": "stream",
          "name": "stdout",
          "text": [
            "Username: john\n",
            "Mailserver: email\n",
            "Domain: com\n",
            "\n",
            "Username: mary\n",
            "Mailserver: otherplace\n",
            "Domain: net\n",
            "\n",
            "Username: support\n",
            "Mailserver: ourcompany\n",
            "Domain: co\n",
            "\n"
          ]
        }
      ]
    },
    {
      "cell_type": "code",
      "source": [
        "\n",
        "inputs = [\"john@email.com\", \"mary+newsletter@gmail.com\", \"support@ourcompany.co.uk\"]\n",
        "\n",
        "pattern = r\"@\\w+\\.\\w+\"\n",
        "\n",
        "for email in inputs:\n",
        "    domain_match = re.search(pattern, email)\n",
        "    if domain_match:\n",
        "        domain = domain_match.group(0)[1:]  # Remove the \"@\" symbol\n",
        "        print(f\"Domain for {email}: {domain}\")\n"
      ],
      "metadata": {
        "colab": {
          "base_uri": "https://localhost:8080/"
        },
        "id": "Z_bIkFZlfmjt",
        "outputId": "2d2a7f8b-ba81-4d84-ed6a-3e24ad588a10"
      },
      "execution_count": null,
      "outputs": [
        {
          "output_type": "stream",
          "name": "stdout",
          "text": [
            "Domain for john@email.com: email.com\n",
            "Domain for mary+newsletter@gmail.com: gmail.com\n",
            "Domain for support@ourcompany.co.uk: ourcompany.co\n"
          ]
        }
      ]
    },
    {
      "cell_type": "code",
      "source": [
        "# التحقق من صحة أرقام الهواتف\n",
        "\n",
        "inputs = [\"555-123-4567\", \"1 (234) 567-8910\", \"notaphonenumber\"]\n",
        "\n",
        "pattern = r\"^\\d{3}-\\d{3}-\\d{4}$|^\\(\\d{3}\\) \\d{3}-\\d{4}$\"\n",
        "\n",
        "for phone_number in inputs:\n",
        "    if re.match(pattern, phone_number):\n",
        "        print(f\"{phone_number} is a valid phone number.\")\n",
        "    else:\n",
        "        print(f\"{phone_number} is not a valid phone number.\")\n"
      ],
      "metadata": {
        "colab": {
          "base_uri": "https://localhost:8080/"
        },
        "id": "Bo50GTt2f1RC",
        "outputId": "83f30224-0602-4a4b-98fd-ff56d09dbb2d"
      },
      "execution_count": null,
      "outputs": [
        {
          "output_type": "stream",
          "name": "stdout",
          "text": [
            "555-123-4567 is a valid phone number.\n",
            "1 (234) 567-8910 is not a valid phone number.\n",
            "notaphonenumber is not a valid phone number.\n"
          ]
        }
      ]
    },
    {
      "cell_type": "code",
      "source": [
        "# تهدف إلى استخراج وطباعة رموز المنطقة\n",
        "\n",
        "inputs = [\"(555) 123-4567\", \"1 (234) 567-8910\", \"5551234567\"]\n",
        "\n",
        "pattern = r\"\\(?(\\d{3})\\)?\\s?-?\\d{3}-\\d{4}\"\n",
        "\n",
        "for phone_number in inputs:\n",
        "    area_code_match = re.search(pattern, phone_number)\n",
        "    if area_code_match:\n",
        "        area_code = area_code_match.group(1)\n",
        "        print(f\"Area code for {phone_number}: {area_code}\")\n",
        "    else:\n",
        "        print(f\"No area code found for {phone_number}\")\n"
      ],
      "metadata": {
        "colab": {
          "base_uri": "https://localhost:8080/"
        },
        "id": "3wtSfiorgD4b",
        "outputId": "d7310a29-f73b-44b7-f27a-a827d8048e3a"
      },
      "execution_count": null,
      "outputs": [
        {
          "output_type": "stream",
          "name": "stdout",
          "text": [
            "Area code for (555) 123-4567: 555\n",
            "Area code for 1 (234) 567-8910: 234\n",
            "No area code found for 5551234567\n"
          ]
        }
      ]
    },
    {
      "cell_type": "code",
      "source": [
        "#Hostاستخراج وطباعة استخراج وطباعة\n",
        "inputs = [\n",
        "    \"Visit https://www.example.com for more info\",\n",
        "    \"Our website is example.com\",\n",
        "    \"No URLs here\"\n",
        "]\n",
        "\n",
        "pattern = r'https?://([a-zA-Z0-9.-]+)'\n",
        "\n",
        "for text in inputs:\n",
        "    url_matches = re.findall(pattern, text)\n",
        "    if url_matches:\n",
        "        for host in url_matches:\n",
        "            print(f\"Host for URL in '{text}': {host}\")\n",
        "    else:\n",
        "        print(f\"No URL found in '{text}'\")\n"
      ],
      "metadata": {
        "colab": {
          "base_uri": "https://localhost:8080/"
        },
        "id": "rkCQ0prUgZXL",
        "outputId": "92e04816-9b0a-4e04-c4df-a4a710cc6931"
      },
      "execution_count": null,
      "outputs": [
        {
          "output_type": "stream",
          "name": "stdout",
          "text": [
            "Host for URL in 'Visit https://www.example.com for more info': www.example.com\n",
            "No URL found in 'Our website is example.com'\n",
            "No URL found in 'No URLs here'\n"
          ]
        }
      ]
    },
    {
      "cell_type": "code",
      "source": [
        "#إزالة الأحرف غير الأبجدية من النصوص\n",
        "inputs = [\"Hello world!\", \"123 Main St.\", \"greetings&more\"]\n",
        "\n",
        "def remove_non_alphabetic(input_str):\n",
        "    # Use a regular expression to remove non-alphabetic characters\n",
        "    alphabetic_str = re.sub(r'[^a-zA-Z ]', '', input_str)\n",
        "    return alphabetic_str\n",
        "\n",
        "# Process each input string\n",
        "for text in inputs:\n",
        "    cleaned_text = remove_non_alphabetic(text)\n",
        "    print(f\"Original: {text}\")\n",
        "    print(f\"Cleaned: {cleaned_text}\")\n"
      ],
      "metadata": {
        "colab": {
          "base_uri": "https://localhost:8080/"
        },
        "id": "NP3qOekfgm3b",
        "outputId": "f3bf8055-6bc8-489f-b4c6-737d63c98cd8"
      },
      "execution_count": null,
      "outputs": [
        {
          "output_type": "stream",
          "name": "stdout",
          "text": [
            "Original: Hello world!\n",
            "Cleaned: Hello world\n",
            "Original: 123 Main St.\n",
            "Cleaned:  Main St\n",
            "Original: greetings&more\n",
            "Cleaned: greetingsmore\n"
          ]
        }
      ]
    },
    {
      "cell_type": "code",
      "source": [
        "#البحث في النصوص المدرجة في القائمة tion عن الكلمات التي تحتوي على الجزء\n",
        "inputs = [\n",
        "    \"This is a test sentence with the word station in it.\",\n",
        "    \"No words containing tion here\",\n",
        "    \"motion activation vacation\"\n",
        "]\n",
        "\n",
        "for text in inputs:\n",
        "    words = re.findall(r'\\b\\w*tion\\w*\\b', text)\n",
        "    if words:\n",
        "        print(f\"Words containing 'tion' in '{text}': {', '.join(words)}\")\n",
        "    else:\n",
        "        print(f\"No words containing 'tion' found in '{text}'\")\n"
      ],
      "metadata": {
        "colab": {
          "base_uri": "https://localhost:8080/"
        },
        "id": "kObFf210gz2O",
        "outputId": "e4b14873-cb3e-48e6-f1b3-b71d01a533d5"
      },
      "execution_count": null,
      "outputs": [
        {
          "output_type": "stream",
          "name": "stdout",
          "text": [
            "Words containing 'tion' in 'This is a test sentence with the word station in it.': station\n",
            "Words containing 'tion' in 'No words containing tion here': tion\n",
            "Words containing 'tion' in 'motion activation vacation': motion, activation, vacation\n"
          ]
        }
      ]
    },
    {
      "cell_type": "code",
      "source": [
        "inputs = [\"hello world\", \"hello there\", \"no match\"]\n",
        "\n",
        "for text in inputs:\n",
        "    replaced_text = text.replace(\"hello\", \"goodbye\")\n",
        "    print(f\"Original: {text}\")\n",
        "    print(f\"Replaced: {replaced_text}\")\n"
      ],
      "metadata": {
        "colab": {
          "base_uri": "https://localhost:8080/"
        },
        "id": "ZqtuRZrmhAEB",
        "outputId": "9052c98c-4b15-47eb-b4f9-1f36f5db4713"
      },
      "execution_count": null,
      "outputs": [
        {
          "output_type": "stream",
          "name": "stdout",
          "text": [
            "Original: hello world\n",
            "Replaced: goodbye world\n",
            "Original: hello there\n",
            "Replaced: goodbye there\n",
            "Original: no match\n",
            "Replaced: no match\n"
          ]
        }
      ]
    },
    {
      "cell_type": "code",
      "source": [
        "\n",
        "inputs = [\n",
        "    \"Log from 2023-01-15\",\n",
        "    \"Meeting on 2023-02-01T13:00:00Z\",\n",
        "    \"No dates\"\n",
        "]\n",
        "\n",
        "for text in inputs:\n",
        "    date_matches = re.findall(r'\\d{4}-\\d{2}-\\d{2}(?:T\\d{2}:\\d{2}:\\d{2}Z)?', text)\n",
        "    if date_matches:\n",
        "        print(f\"ISO 8601 date(s) in '{text}': {', '.join(date_matches)}\")\n",
        "    else:\n",
        "        print(f\"No ISO 8601 dates found in '{text}'\")\n"
      ],
      "metadata": {
        "colab": {
          "base_uri": "https://localhost:8080/"
        },
        "id": "r07XV_J9hRzK",
        "outputId": "0ba109f4-e328-4aed-ce52-e81676347896"
      },
      "execution_count": null,
      "outputs": [
        {
          "output_type": "stream",
          "name": "stdout",
          "text": [
            "ISO 8601 date(s) in 'Log from 2023-01-15': 2023-01-15\n",
            "ISO 8601 date(s) in 'Meeting on 2023-02-01T13:00:00Z': 2023-02-01T13:00:00Z\n",
            "No ISO 8601 dates found in 'No dates'\n"
          ]
        }
      ]
    },
    {
      "cell_type": "code",
      "source": [
        "# التحقق من صحة التواريخ\n",
        "inputs = [\n",
        "    \"2023-01-15\",\n",
        "    \"02/01/2023\",\n",
        "    \"invalid date\"\n",
        "]\n",
        "\n",
        "pattern = r'\\d{4}-\\d{2}-\\d{2}'\n",
        "\n",
        "for date_str in inputs:\n",
        "    if re.match(pattern, date_str):\n",
        "        print(f\"{date_str} is a valid date in ISO 8601 format.\")\n",
        "    else:\n",
        "        print(f\"{date_str} is not a valid date in ISO 8601 format.\")\n"
      ],
      "metadata": {
        "colab": {
          "base_uri": "https://localhost:8080/"
        },
        "id": "ePINTqLXhiI9",
        "outputId": "e4973d2c-1bd8-4aa0-8017-a029ff282e4a"
      },
      "execution_count": null,
      "outputs": [
        {
          "output_type": "stream",
          "name": "stdout",
          "text": [
            "2023-01-15 is a valid date in ISO 8601 format.\n",
            "02/01/2023 is not a valid date in ISO 8601 format.\n",
            "invalid date is not a valid date in ISO 8601 format.\n"
          ]
        }
      ]
    },
    {
      "cell_type": "code",
      "source": [
        "#تنظيف النصوص من علامات الترقيم باستثناء الشرطات، والحفاظ على الأحرف الأبجدية والفراغات\n",
        "\n",
        "inputs = [\n",
        "    \"Hello! World?\",\n",
        "    \"123-Main_St.\",\n",
        "    \"Hi there.\"\n",
        "]\n",
        "\n",
        "def remove_punctuation(input_str):\n",
        "    # Use a regular expression to remove punctuation, except for hyphens\n",
        "    cleaned_str = re.sub(r'[^\\w\\s-]', '', input_str)\n",
        "    return cleaned_str\n",
        "\n",
        "# Process each input string\n",
        "for text in inputs:\n",
        "    cleaned_text = remove_punctuation(text)\n",
        "    print(f\"Original: {text}\")\n",
        "    print(f\"Cleaned: {cleaned_text}\")\n"
      ],
      "metadata": {
        "colab": {
          "base_uri": "https://localhost:8080/"
        },
        "id": "qkEmhhVuhv1m",
        "outputId": "8d23fc62-59e2-413f-c852-707298aba5d2"
      },
      "execution_count": null,
      "outputs": [
        {
          "output_type": "stream",
          "name": "stdout",
          "text": [
            "Original: Hello! World?\n",
            "Cleaned: Hello World\n",
            "Original: 123-Main_St.\n",
            "Cleaned: 123-Main_St\n",
            "Original: Hi there.\n",
            "Cleaned: Hi there\n"
          ]
        }
      ]
    },
    {
      "cell_type": "code",
      "source": [
        "# عدّ مرات ظهور الكلمة\n",
        "inputs = [\"Hello world. Hello!\", \"Hello hello world\", \"no match\"]\n",
        "\n",
        "# Word to count\n",
        "word_to_count = \"Hello\"\n",
        "\n",
        "for text in inputs:\n",
        "    # Split the text into words, convert to lowercase, and count occurrences\n",
        "    words = text.split()\n",
        "    word_count = sum(1 for word in words if word.lower() == word_to_count.lower())\n",
        "    print(f\"'{word_to_count}' appears {word_count} time(s) in '{text}'.\")\n"
      ],
      "metadata": {
        "colab": {
          "base_uri": "https://localhost:8080/"
        },
        "id": "goekzi7ziOcp",
        "outputId": "c84f0fe2-1d5c-4047-a920-56918f9e0062"
      },
      "execution_count": null,
      "outputs": [
        {
          "output_type": "stream",
          "name": "stdout",
          "text": [
            "'Hello' appears 1 time(s) in 'Hello world. Hello!'.\n",
            "'Hello' appears 2 time(s) in 'Hello hello world'.\n",
            "'Hello' appears 0 time(s) in 'no match'.\n"
          ]
        }
      ]
    },
    {
      "cell_type": "code",
      "source": [
        "\n",
        "#بحث عن وتجميع أرقام بطاقة الائتمان وأرقام الضمان الاجتماعي في النصوص واستبدالها بعبارات محجوبة لحماية البيانات الحساسة\n",
        "inputs = [\n",
        "    \"Visa: 4111-1111-1111-1111\",\n",
        "    \"My SSN is 111-11-1111\",\n",
        "    \"No numbers\"\n",
        "]\n",
        "\n",
        "# Define redacted placeholders\n",
        "redacted_cc = \"REDACTED_CREDIT_CARD\"\n",
        "redacted_ssn = \"REDACTED_SSN\"\n",
        "\n",
        "def redact_sensitive_info(input_str):\n",
        "    # Use regular expressions to find and redact credit card and SSN numbers\n",
        "    redacted_str = re.sub(r'\\b\\d{4}-\\d{4}-\\d{4}-\\d{4}\\b', redacted_cc, input_str)\n",
        "    redacted_str = re.sub(r'\\b\\d{3}-\\d{2}-\\d{4}\\b', redacted_ssn, redacted_str)\n",
        "    return redacted_str\n",
        "\n",
        "# Process each input string\n",
        "for text in inputs:\n",
        "    redacted_text = redact_sensitive_info(text)\n",
        "    print(f\"Original: {text}\")\n",
        "    print(f\"Redacted: {redacted_text}\")\n"
      ],
      "metadata": {
        "colab": {
          "base_uri": "https://localhost:8080/"
        },
        "id": "RuCCDQyEiR0x",
        "outputId": "fc10ea60-1a56-43a3-80c9-2e86cb8e527a"
      },
      "execution_count": null,
      "outputs": [
        {
          "output_type": "stream",
          "name": "stdout",
          "text": [
            "Original: Visa: 4111-1111-1111-1111\n",
            "Redacted: Visa: REDACTED_CREDIT_CARD\n",
            "Original: My SSN is 111-11-1111\n",
            "Redacted: My SSN is REDACTED_SSN\n",
            "Original: No numbers\n",
            "Redacted: No numbers\n"
          ]
        }
      ]
    }
  ]
}